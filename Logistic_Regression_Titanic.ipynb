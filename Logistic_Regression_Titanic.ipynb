{
  "cells": [
    {
      "cell_type": "code",
      "execution_count": 1,
      "id": "latin-train",
      "metadata": {
        "id": "latin-train"
      },
      "outputs": [],
      "source": [
        "import numpy as np\n",
        "import pandas as pd\n",
        "import matplotlib.pyplot as plt\n",
        "from sklearn.model_selection import train_test_split"
      ]
    },
    {
      "cell_type": "markdown",
      "source": [
        "## import titanic set"
      ],
      "metadata": {
        "id": "hI-CoYIGx-3s"
      },
      "id": "hI-CoYIGx-3s"
    },
    {
      "cell_type": "code",
      "source": [
        "#Importing essential libraries\n",
        "!pip install -U -q PyDrive\n",
        " \n",
        "from pydrive.auth import GoogleAuth\n",
        "from pydrive.drive import GoogleDrive\n",
        "from google.colab import auth\n",
        "from oauth2client.client import GoogleCredentials\n",
        " \n",
        " \n",
        "# Authenticate and create the PyDrive client.\n",
        "auth.authenticate_user()\n",
        "gauth = GoogleAuth()\n",
        "gauth.credentials = GoogleCredentials.get_application_default()\n",
        "drive = GoogleDrive(gauth)\n",
        "\n"
      ],
      "metadata": {
        "id": "1sQVejANd1IA"
      },
      "id": "1sQVejANd1IA",
      "execution_count": 2,
      "outputs": []
    },
    {
      "cell_type": "code",
      "source": [
        "pip install wget"
      ],
      "metadata": {
        "colab": {
          "base_uri": "https://localhost:8080/"
        },
        "id": "R8fwUmWdDDT7",
        "outputId": "dbdb1425-9e44-4808-c2c5-21aa67e3a1bb"
      },
      "id": "R8fwUmWdDDT7",
      "execution_count": 3,
      "outputs": [
        {
          "output_type": "stream",
          "name": "stdout",
          "text": [
            "Collecting wget\n",
            "  Downloading wget-3.2.zip (10 kB)\n",
            "Building wheels for collected packages: wget\n",
            "  Building wheel for wget (setup.py) ... \u001b[?25l\u001b[?25hdone\n",
            "  Created wheel for wget: filename=wget-3.2-py3-none-any.whl size=9675 sha256=d86ea77e5ba9733a9eb4ecf9fff3b330f19ee834d7be1566dd0ea633b12bfcd9\n",
            "  Stored in directory: /root/.cache/pip/wheels/a1/b6/7c/0e63e34eb06634181c63adacca38b79ff8f35c37e3c13e3c02\n",
            "Successfully built wget\n",
            "Installing collected packages: wget\n",
            "Successfully installed wget-3.2\n"
          ]
        }
      ]
    },
    {
      "cell_type": "code",
      "source": [
        "import pandas as pd\n",
        "\n",
        "df1 = 'https://drive.google.com/file/d/1zZlcn-WXf_KOl0rcwON_v7XxnxLm_bv9/view?usp=sharing'\n",
        "df2 = 'https://drive.google.com/file/d/1XIOPNGaMu3rStwMHMz65LFo4vhyyEznN/view?usp=sharing'\n",
        "df3 = 'https://drive.google.com/file/d/1m3Iv4lyEfQtkBVRbHdGeRRvNanHPGSi-/view?usp=sharing'\n",
        "df4 = 'https://drive.google.com/file/d/1JrZyhGW95soNr9mwoLZzqxl9of2TjSxa/view?usp=sharing'\n",
        "# to get the id part of the file\n",
        "id = df1.split(\"/\")[-2]\n",
        "id2 = df2.split(\"/\")[-2]\n",
        "id3 = df3.split(\"/\")[-2]\n",
        "id4 = df4.split(\"/\")[-2]\n",
        "\n",
        " \n",
        "downloaded = drive.CreateFile({'id':id})\n",
        "downloaded.GetContentFile('test_X.csv') \n",
        "X_test = pd.read_csv('test_X.csv')\n",
        "\n",
        "downloaded = drive.CreateFile({'id':id2})\n",
        "downloaded.GetContentFile('test_Y.csv') \n",
        "Y_test = pd.read_csv('test_Y.csv')\n",
        "\n",
        "downloaded = drive.CreateFile({'id':id3})\n",
        "downloaded.GetContentFile('train_X.csv') \n",
        "X_train = pd.read_csv('train_X.csv')\n",
        "\n",
        "downloaded = drive.CreateFile({'id':id4})\n",
        "downloaded.GetContentFile('train_Y.csv') \n",
        "Y_train = pd.read_csv('train_Y.csv')"
      ],
      "metadata": {
        "id": "mfFxOJxvDKvq"
      },
      "id": "mfFxOJxvDKvq",
      "execution_count": 4,
      "outputs": []
    },
    {
      "cell_type": "code",
      "execution_count": 5,
      "id": "limited-borough",
      "metadata": {
        "id": "limited-borough"
      },
      "outputs": [],
      "source": [
        "X_train = X_train.drop(\"Id\", axis = 1)\n",
        "Y_train = Y_train.drop(\"Id\", axis = 1)\n",
        "X_test = X_test.drop(\"Id\", axis = 1)\n",
        "Y_test = Y_test.drop(\"Id\", axis = 1)"
      ]
    },
    {
      "cell_type": "code",
      "source": [
        "X_train"
      ],
      "metadata": {
        "colab": {
          "base_uri": "https://localhost:8080/",
          "height": 424
        },
        "id": "GapzEdkYKHka",
        "outputId": "1aa2ca51-61f5-4a46-ee47-2489edf7987e"
      },
      "id": "GapzEdkYKHka",
      "execution_count": 6,
      "outputs": [
        {
          "output_type": "execute_result",
          "data": {
            "text/plain": [
              "     Pclass  Sex   Age  SibSp  Parch     Fare  Embarked\n",
              "0         3    0  22.0      1      0   7.2500         1\n",
              "1         1    1  38.0      1      0  71.2833         0\n",
              "2         3    1  26.0      0      0   7.9250         1\n",
              "3         1    1  35.0      1      0  53.1000         1\n",
              "4         3    0  35.0      0      0   8.0500         1\n",
              "..      ...  ...   ...    ...    ...      ...       ...\n",
              "886       2    0  27.0      0      0  13.0000         1\n",
              "887       1    1  19.0      0      0  30.0000         1\n",
              "888       3    1  20.0      1      2  23.4500         1\n",
              "889       1    0  26.0      0      0  30.0000         0\n",
              "890       3    0  32.0      0      0   7.7500         2\n",
              "\n",
              "[891 rows x 7 columns]"
            ],
            "text/html": [
              "\n",
              "  <div id=\"df-e323d32b-6945-461c-979f-c28448dd03f4\">\n",
              "    <div class=\"colab-df-container\">\n",
              "      <div>\n",
              "<style scoped>\n",
              "    .dataframe tbody tr th:only-of-type {\n",
              "        vertical-align: middle;\n",
              "    }\n",
              "\n",
              "    .dataframe tbody tr th {\n",
              "        vertical-align: top;\n",
              "    }\n",
              "\n",
              "    .dataframe thead th {\n",
              "        text-align: right;\n",
              "    }\n",
              "</style>\n",
              "<table border=\"1\" class=\"dataframe\">\n",
              "  <thead>\n",
              "    <tr style=\"text-align: right;\">\n",
              "      <th></th>\n",
              "      <th>Pclass</th>\n",
              "      <th>Sex</th>\n",
              "      <th>Age</th>\n",
              "      <th>SibSp</th>\n",
              "      <th>Parch</th>\n",
              "      <th>Fare</th>\n",
              "      <th>Embarked</th>\n",
              "    </tr>\n",
              "  </thead>\n",
              "  <tbody>\n",
              "    <tr>\n",
              "      <th>0</th>\n",
              "      <td>3</td>\n",
              "      <td>0</td>\n",
              "      <td>22.0</td>\n",
              "      <td>1</td>\n",
              "      <td>0</td>\n",
              "      <td>7.2500</td>\n",
              "      <td>1</td>\n",
              "    </tr>\n",
              "    <tr>\n",
              "      <th>1</th>\n",
              "      <td>1</td>\n",
              "      <td>1</td>\n",
              "      <td>38.0</td>\n",
              "      <td>1</td>\n",
              "      <td>0</td>\n",
              "      <td>71.2833</td>\n",
              "      <td>0</td>\n",
              "    </tr>\n",
              "    <tr>\n",
              "      <th>2</th>\n",
              "      <td>3</td>\n",
              "      <td>1</td>\n",
              "      <td>26.0</td>\n",
              "      <td>0</td>\n",
              "      <td>0</td>\n",
              "      <td>7.9250</td>\n",
              "      <td>1</td>\n",
              "    </tr>\n",
              "    <tr>\n",
              "      <th>3</th>\n",
              "      <td>1</td>\n",
              "      <td>1</td>\n",
              "      <td>35.0</td>\n",
              "      <td>1</td>\n",
              "      <td>0</td>\n",
              "      <td>53.1000</td>\n",
              "      <td>1</td>\n",
              "    </tr>\n",
              "    <tr>\n",
              "      <th>4</th>\n",
              "      <td>3</td>\n",
              "      <td>0</td>\n",
              "      <td>35.0</td>\n",
              "      <td>0</td>\n",
              "      <td>0</td>\n",
              "      <td>8.0500</td>\n",
              "      <td>1</td>\n",
              "    </tr>\n",
              "    <tr>\n",
              "      <th>...</th>\n",
              "      <td>...</td>\n",
              "      <td>...</td>\n",
              "      <td>...</td>\n",
              "      <td>...</td>\n",
              "      <td>...</td>\n",
              "      <td>...</td>\n",
              "      <td>...</td>\n",
              "    </tr>\n",
              "    <tr>\n",
              "      <th>886</th>\n",
              "      <td>2</td>\n",
              "      <td>0</td>\n",
              "      <td>27.0</td>\n",
              "      <td>0</td>\n",
              "      <td>0</td>\n",
              "      <td>13.0000</td>\n",
              "      <td>1</td>\n",
              "    </tr>\n",
              "    <tr>\n",
              "      <th>887</th>\n",
              "      <td>1</td>\n",
              "      <td>1</td>\n",
              "      <td>19.0</td>\n",
              "      <td>0</td>\n",
              "      <td>0</td>\n",
              "      <td>30.0000</td>\n",
              "      <td>1</td>\n",
              "    </tr>\n",
              "    <tr>\n",
              "      <th>888</th>\n",
              "      <td>3</td>\n",
              "      <td>1</td>\n",
              "      <td>20.0</td>\n",
              "      <td>1</td>\n",
              "      <td>2</td>\n",
              "      <td>23.4500</td>\n",
              "      <td>1</td>\n",
              "    </tr>\n",
              "    <tr>\n",
              "      <th>889</th>\n",
              "      <td>1</td>\n",
              "      <td>0</td>\n",
              "      <td>26.0</td>\n",
              "      <td>0</td>\n",
              "      <td>0</td>\n",
              "      <td>30.0000</td>\n",
              "      <td>0</td>\n",
              "    </tr>\n",
              "    <tr>\n",
              "      <th>890</th>\n",
              "      <td>3</td>\n",
              "      <td>0</td>\n",
              "      <td>32.0</td>\n",
              "      <td>0</td>\n",
              "      <td>0</td>\n",
              "      <td>7.7500</td>\n",
              "      <td>2</td>\n",
              "    </tr>\n",
              "  </tbody>\n",
              "</table>\n",
              "<p>891 rows × 7 columns</p>\n",
              "</div>\n",
              "      <button class=\"colab-df-convert\" onclick=\"convertToInteractive('df-e323d32b-6945-461c-979f-c28448dd03f4')\"\n",
              "              title=\"Convert this dataframe to an interactive table.\"\n",
              "              style=\"display:none;\">\n",
              "        \n",
              "  <svg xmlns=\"http://www.w3.org/2000/svg\" height=\"24px\"viewBox=\"0 0 24 24\"\n",
              "       width=\"24px\">\n",
              "    <path d=\"M0 0h24v24H0V0z\" fill=\"none\"/>\n",
              "    <path d=\"M18.56 5.44l.94 2.06.94-2.06 2.06-.94-2.06-.94-.94-2.06-.94 2.06-2.06.94zm-11 1L8.5 8.5l.94-2.06 2.06-.94-2.06-.94L8.5 2.5l-.94 2.06-2.06.94zm10 10l.94 2.06.94-2.06 2.06-.94-2.06-.94-.94-2.06-.94 2.06-2.06.94z\"/><path d=\"M17.41 7.96l-1.37-1.37c-.4-.4-.92-.59-1.43-.59-.52 0-1.04.2-1.43.59L10.3 9.45l-7.72 7.72c-.78.78-.78 2.05 0 2.83L4 21.41c.39.39.9.59 1.41.59.51 0 1.02-.2 1.41-.59l7.78-7.78 2.81-2.81c.8-.78.8-2.07 0-2.86zM5.41 20L4 18.59l7.72-7.72 1.47 1.35L5.41 20z\"/>\n",
              "  </svg>\n",
              "      </button>\n",
              "      \n",
              "  <style>\n",
              "    .colab-df-container {\n",
              "      display:flex;\n",
              "      flex-wrap:wrap;\n",
              "      gap: 12px;\n",
              "    }\n",
              "\n",
              "    .colab-df-convert {\n",
              "      background-color: #E8F0FE;\n",
              "      border: none;\n",
              "      border-radius: 50%;\n",
              "      cursor: pointer;\n",
              "      display: none;\n",
              "      fill: #1967D2;\n",
              "      height: 32px;\n",
              "      padding: 0 0 0 0;\n",
              "      width: 32px;\n",
              "    }\n",
              "\n",
              "    .colab-df-convert:hover {\n",
              "      background-color: #E2EBFA;\n",
              "      box-shadow: 0px 1px 2px rgba(60, 64, 67, 0.3), 0px 1px 3px 1px rgba(60, 64, 67, 0.15);\n",
              "      fill: #174EA6;\n",
              "    }\n",
              "\n",
              "    [theme=dark] .colab-df-convert {\n",
              "      background-color: #3B4455;\n",
              "      fill: #D2E3FC;\n",
              "    }\n",
              "\n",
              "    [theme=dark] .colab-df-convert:hover {\n",
              "      background-color: #434B5C;\n",
              "      box-shadow: 0px 1px 3px 1px rgba(0, 0, 0, 0.15);\n",
              "      filter: drop-shadow(0px 1px 2px rgba(0, 0, 0, 0.3));\n",
              "      fill: #FFFFFF;\n",
              "    }\n",
              "  </style>\n",
              "\n",
              "      <script>\n",
              "        const buttonEl =\n",
              "          document.querySelector('#df-e323d32b-6945-461c-979f-c28448dd03f4 button.colab-df-convert');\n",
              "        buttonEl.style.display =\n",
              "          google.colab.kernel.accessAllowed ? 'block' : 'none';\n",
              "\n",
              "        async function convertToInteractive(key) {\n",
              "          const element = document.querySelector('#df-e323d32b-6945-461c-979f-c28448dd03f4');\n",
              "          const dataTable =\n",
              "            await google.colab.kernel.invokeFunction('convertToInteractive',\n",
              "                                                     [key], {});\n",
              "          if (!dataTable) return;\n",
              "\n",
              "          const docLinkHtml = 'Like what you see? Visit the ' +\n",
              "            '<a target=\"_blank\" href=https://colab.research.google.com/notebooks/data_table.ipynb>data table notebook</a>'\n",
              "            + ' to learn more about interactive tables.';\n",
              "          element.innerHTML = '';\n",
              "          dataTable['output_type'] = 'display_data';\n",
              "          await google.colab.output.renderOutput(dataTable, element);\n",
              "          const docLink = document.createElement('div');\n",
              "          docLink.innerHTML = docLinkHtml;\n",
              "          element.appendChild(docLink);\n",
              "        }\n",
              "      </script>\n",
              "    </div>\n",
              "  </div>\n",
              "  "
            ]
          },
          "metadata": {},
          "execution_count": 6
        }
      ]
    },
    {
      "cell_type": "code",
      "source": [
        "X_train.T"
      ],
      "metadata": {
        "colab": {
          "base_uri": "https://localhost:8080/",
          "height": 298
        },
        "id": "T46LzxFdKVuS",
        "outputId": "7a9b830d-6afb-49bd-afd5-acd52f980dde"
      },
      "id": "T46LzxFdKVuS",
      "execution_count": 7,
      "outputs": [
        {
          "output_type": "execute_result",
          "data": {
            "text/plain": [
              "            0        1       2     3      4        5        6       7    \\\n",
              "Pclass     3.00   1.0000   3.000   1.0   3.00   3.0000   1.0000   3.000   \n",
              "Sex        0.00   1.0000   1.000   1.0   0.00   0.0000   0.0000   0.000   \n",
              "Age       22.00  38.0000  26.000  35.0  35.00  20.0000  54.0000   2.000   \n",
              "SibSp      1.00   1.0000   0.000   1.0   0.00   0.0000   0.0000   3.000   \n",
              "Parch      0.00   0.0000   0.000   0.0   0.00   0.0000   0.0000   1.000   \n",
              "Fare       7.25  71.2833   7.925  53.1   8.05   8.4583  51.8625  21.075   \n",
              "Embarked   1.00   0.0000   1.000   1.0   1.00   2.0000   1.0000   1.000   \n",
              "\n",
              "              8        9    ...      881      882   883    884     885   886  \\\n",
              "Pclass     3.0000   2.0000  ...   3.0000   3.0000   2.0   3.00   3.000   2.0   \n",
              "Sex        1.0000   1.0000  ...   0.0000   1.0000   0.0   0.00   1.000   0.0   \n",
              "Age       27.0000  14.0000  ...  33.0000  22.0000  28.0  25.00  39.000  27.0   \n",
              "SibSp      0.0000   1.0000  ...   0.0000   0.0000   0.0   0.00   0.000   0.0   \n",
              "Parch      2.0000   0.0000  ...   0.0000   0.0000   0.0   0.00   5.000   0.0   \n",
              "Fare      11.1333  30.0708  ...   7.8958  10.5167  10.5   7.05  29.125  13.0   \n",
              "Embarked   1.0000   0.0000  ...   1.0000   1.0000   1.0   1.00   2.000   1.0   \n",
              "\n",
              "           887    888   889    890  \n",
              "Pclass     1.0   3.00   1.0   3.00  \n",
              "Sex        1.0   1.00   0.0   0.00  \n",
              "Age       19.0  20.00  26.0  32.00  \n",
              "SibSp      0.0   1.00   0.0   0.00  \n",
              "Parch      0.0   2.00   0.0   0.00  \n",
              "Fare      30.0  23.45  30.0   7.75  \n",
              "Embarked   1.0   1.00   0.0   2.00  \n",
              "\n",
              "[7 rows x 891 columns]"
            ],
            "text/html": [
              "\n",
              "  <div id=\"df-416b2265-504f-47d0-b553-bcde8d88b238\">\n",
              "    <div class=\"colab-df-container\">\n",
              "      <div>\n",
              "<style scoped>\n",
              "    .dataframe tbody tr th:only-of-type {\n",
              "        vertical-align: middle;\n",
              "    }\n",
              "\n",
              "    .dataframe tbody tr th {\n",
              "        vertical-align: top;\n",
              "    }\n",
              "\n",
              "    .dataframe thead th {\n",
              "        text-align: right;\n",
              "    }\n",
              "</style>\n",
              "<table border=\"1\" class=\"dataframe\">\n",
              "  <thead>\n",
              "    <tr style=\"text-align: right;\">\n",
              "      <th></th>\n",
              "      <th>0</th>\n",
              "      <th>1</th>\n",
              "      <th>2</th>\n",
              "      <th>3</th>\n",
              "      <th>4</th>\n",
              "      <th>5</th>\n",
              "      <th>6</th>\n",
              "      <th>7</th>\n",
              "      <th>8</th>\n",
              "      <th>9</th>\n",
              "      <th>...</th>\n",
              "      <th>881</th>\n",
              "      <th>882</th>\n",
              "      <th>883</th>\n",
              "      <th>884</th>\n",
              "      <th>885</th>\n",
              "      <th>886</th>\n",
              "      <th>887</th>\n",
              "      <th>888</th>\n",
              "      <th>889</th>\n",
              "      <th>890</th>\n",
              "    </tr>\n",
              "  </thead>\n",
              "  <tbody>\n",
              "    <tr>\n",
              "      <th>Pclass</th>\n",
              "      <td>3.00</td>\n",
              "      <td>1.0000</td>\n",
              "      <td>3.000</td>\n",
              "      <td>1.0</td>\n",
              "      <td>3.00</td>\n",
              "      <td>3.0000</td>\n",
              "      <td>1.0000</td>\n",
              "      <td>3.000</td>\n",
              "      <td>3.0000</td>\n",
              "      <td>2.0000</td>\n",
              "      <td>...</td>\n",
              "      <td>3.0000</td>\n",
              "      <td>3.0000</td>\n",
              "      <td>2.0</td>\n",
              "      <td>3.00</td>\n",
              "      <td>3.000</td>\n",
              "      <td>2.0</td>\n",
              "      <td>1.0</td>\n",
              "      <td>3.00</td>\n",
              "      <td>1.0</td>\n",
              "      <td>3.00</td>\n",
              "    </tr>\n",
              "    <tr>\n",
              "      <th>Sex</th>\n",
              "      <td>0.00</td>\n",
              "      <td>1.0000</td>\n",
              "      <td>1.000</td>\n",
              "      <td>1.0</td>\n",
              "      <td>0.00</td>\n",
              "      <td>0.0000</td>\n",
              "      <td>0.0000</td>\n",
              "      <td>0.000</td>\n",
              "      <td>1.0000</td>\n",
              "      <td>1.0000</td>\n",
              "      <td>...</td>\n",
              "      <td>0.0000</td>\n",
              "      <td>1.0000</td>\n",
              "      <td>0.0</td>\n",
              "      <td>0.00</td>\n",
              "      <td>1.000</td>\n",
              "      <td>0.0</td>\n",
              "      <td>1.0</td>\n",
              "      <td>1.00</td>\n",
              "      <td>0.0</td>\n",
              "      <td>0.00</td>\n",
              "    </tr>\n",
              "    <tr>\n",
              "      <th>Age</th>\n",
              "      <td>22.00</td>\n",
              "      <td>38.0000</td>\n",
              "      <td>26.000</td>\n",
              "      <td>35.0</td>\n",
              "      <td>35.00</td>\n",
              "      <td>20.0000</td>\n",
              "      <td>54.0000</td>\n",
              "      <td>2.000</td>\n",
              "      <td>27.0000</td>\n",
              "      <td>14.0000</td>\n",
              "      <td>...</td>\n",
              "      <td>33.0000</td>\n",
              "      <td>22.0000</td>\n",
              "      <td>28.0</td>\n",
              "      <td>25.00</td>\n",
              "      <td>39.000</td>\n",
              "      <td>27.0</td>\n",
              "      <td>19.0</td>\n",
              "      <td>20.00</td>\n",
              "      <td>26.0</td>\n",
              "      <td>32.00</td>\n",
              "    </tr>\n",
              "    <tr>\n",
              "      <th>SibSp</th>\n",
              "      <td>1.00</td>\n",
              "      <td>1.0000</td>\n",
              "      <td>0.000</td>\n",
              "      <td>1.0</td>\n",
              "      <td>0.00</td>\n",
              "      <td>0.0000</td>\n",
              "      <td>0.0000</td>\n",
              "      <td>3.000</td>\n",
              "      <td>0.0000</td>\n",
              "      <td>1.0000</td>\n",
              "      <td>...</td>\n",
              "      <td>0.0000</td>\n",
              "      <td>0.0000</td>\n",
              "      <td>0.0</td>\n",
              "      <td>0.00</td>\n",
              "      <td>0.000</td>\n",
              "      <td>0.0</td>\n",
              "      <td>0.0</td>\n",
              "      <td>1.00</td>\n",
              "      <td>0.0</td>\n",
              "      <td>0.00</td>\n",
              "    </tr>\n",
              "    <tr>\n",
              "      <th>Parch</th>\n",
              "      <td>0.00</td>\n",
              "      <td>0.0000</td>\n",
              "      <td>0.000</td>\n",
              "      <td>0.0</td>\n",
              "      <td>0.00</td>\n",
              "      <td>0.0000</td>\n",
              "      <td>0.0000</td>\n",
              "      <td>1.000</td>\n",
              "      <td>2.0000</td>\n",
              "      <td>0.0000</td>\n",
              "      <td>...</td>\n",
              "      <td>0.0000</td>\n",
              "      <td>0.0000</td>\n",
              "      <td>0.0</td>\n",
              "      <td>0.00</td>\n",
              "      <td>5.000</td>\n",
              "      <td>0.0</td>\n",
              "      <td>0.0</td>\n",
              "      <td>2.00</td>\n",
              "      <td>0.0</td>\n",
              "      <td>0.00</td>\n",
              "    </tr>\n",
              "    <tr>\n",
              "      <th>Fare</th>\n",
              "      <td>7.25</td>\n",
              "      <td>71.2833</td>\n",
              "      <td>7.925</td>\n",
              "      <td>53.1</td>\n",
              "      <td>8.05</td>\n",
              "      <td>8.4583</td>\n",
              "      <td>51.8625</td>\n",
              "      <td>21.075</td>\n",
              "      <td>11.1333</td>\n",
              "      <td>30.0708</td>\n",
              "      <td>...</td>\n",
              "      <td>7.8958</td>\n",
              "      <td>10.5167</td>\n",
              "      <td>10.5</td>\n",
              "      <td>7.05</td>\n",
              "      <td>29.125</td>\n",
              "      <td>13.0</td>\n",
              "      <td>30.0</td>\n",
              "      <td>23.45</td>\n",
              "      <td>30.0</td>\n",
              "      <td>7.75</td>\n",
              "    </tr>\n",
              "    <tr>\n",
              "      <th>Embarked</th>\n",
              "      <td>1.00</td>\n",
              "      <td>0.0000</td>\n",
              "      <td>1.000</td>\n",
              "      <td>1.0</td>\n",
              "      <td>1.00</td>\n",
              "      <td>2.0000</td>\n",
              "      <td>1.0000</td>\n",
              "      <td>1.000</td>\n",
              "      <td>1.0000</td>\n",
              "      <td>0.0000</td>\n",
              "      <td>...</td>\n",
              "      <td>1.0000</td>\n",
              "      <td>1.0000</td>\n",
              "      <td>1.0</td>\n",
              "      <td>1.00</td>\n",
              "      <td>2.000</td>\n",
              "      <td>1.0</td>\n",
              "      <td>1.0</td>\n",
              "      <td>1.00</td>\n",
              "      <td>0.0</td>\n",
              "      <td>2.00</td>\n",
              "    </tr>\n",
              "  </tbody>\n",
              "</table>\n",
              "<p>7 rows × 891 columns</p>\n",
              "</div>\n",
              "      <button class=\"colab-df-convert\" onclick=\"convertToInteractive('df-416b2265-504f-47d0-b553-bcde8d88b238')\"\n",
              "              title=\"Convert this dataframe to an interactive table.\"\n",
              "              style=\"display:none;\">\n",
              "        \n",
              "  <svg xmlns=\"http://www.w3.org/2000/svg\" height=\"24px\"viewBox=\"0 0 24 24\"\n",
              "       width=\"24px\">\n",
              "    <path d=\"M0 0h24v24H0V0z\" fill=\"none\"/>\n",
              "    <path d=\"M18.56 5.44l.94 2.06.94-2.06 2.06-.94-2.06-.94-.94-2.06-.94 2.06-2.06.94zm-11 1L8.5 8.5l.94-2.06 2.06-.94-2.06-.94L8.5 2.5l-.94 2.06-2.06.94zm10 10l.94 2.06.94-2.06 2.06-.94-2.06-.94-.94-2.06-.94 2.06-2.06.94z\"/><path d=\"M17.41 7.96l-1.37-1.37c-.4-.4-.92-.59-1.43-.59-.52 0-1.04.2-1.43.59L10.3 9.45l-7.72 7.72c-.78.78-.78 2.05 0 2.83L4 21.41c.39.39.9.59 1.41.59.51 0 1.02-.2 1.41-.59l7.78-7.78 2.81-2.81c.8-.78.8-2.07 0-2.86zM5.41 20L4 18.59l7.72-7.72 1.47 1.35L5.41 20z\"/>\n",
              "  </svg>\n",
              "      </button>\n",
              "      \n",
              "  <style>\n",
              "    .colab-df-container {\n",
              "      display:flex;\n",
              "      flex-wrap:wrap;\n",
              "      gap: 12px;\n",
              "    }\n",
              "\n",
              "    .colab-df-convert {\n",
              "      background-color: #E8F0FE;\n",
              "      border: none;\n",
              "      border-radius: 50%;\n",
              "      cursor: pointer;\n",
              "      display: none;\n",
              "      fill: #1967D2;\n",
              "      height: 32px;\n",
              "      padding: 0 0 0 0;\n",
              "      width: 32px;\n",
              "    }\n",
              "\n",
              "    .colab-df-convert:hover {\n",
              "      background-color: #E2EBFA;\n",
              "      box-shadow: 0px 1px 2px rgba(60, 64, 67, 0.3), 0px 1px 3px 1px rgba(60, 64, 67, 0.15);\n",
              "      fill: #174EA6;\n",
              "    }\n",
              "\n",
              "    [theme=dark] .colab-df-convert {\n",
              "      background-color: #3B4455;\n",
              "      fill: #D2E3FC;\n",
              "    }\n",
              "\n",
              "    [theme=dark] .colab-df-convert:hover {\n",
              "      background-color: #434B5C;\n",
              "      box-shadow: 0px 1px 3px 1px rgba(0, 0, 0, 0.15);\n",
              "      filter: drop-shadow(0px 1px 2px rgba(0, 0, 0, 0.3));\n",
              "      fill: #FFFFFF;\n",
              "    }\n",
              "  </style>\n",
              "\n",
              "      <script>\n",
              "        const buttonEl =\n",
              "          document.querySelector('#df-416b2265-504f-47d0-b553-bcde8d88b238 button.colab-df-convert');\n",
              "        buttonEl.style.display =\n",
              "          google.colab.kernel.accessAllowed ? 'block' : 'none';\n",
              "\n",
              "        async function convertToInteractive(key) {\n",
              "          const element = document.querySelector('#df-416b2265-504f-47d0-b553-bcde8d88b238');\n",
              "          const dataTable =\n",
              "            await google.colab.kernel.invokeFunction('convertToInteractive',\n",
              "                                                     [key], {});\n",
              "          if (!dataTable) return;\n",
              "\n",
              "          const docLinkHtml = 'Like what you see? Visit the ' +\n",
              "            '<a target=\"_blank\" href=https://colab.research.google.com/notebooks/data_table.ipynb>data table notebook</a>'\n",
              "            + ' to learn more about interactive tables.';\n",
              "          element.innerHTML = '';\n",
              "          dataTable['output_type'] = 'display_data';\n",
              "          await google.colab.output.renderOutput(dataTable, element);\n",
              "          const docLink = document.createElement('div');\n",
              "          docLink.innerHTML = docLinkHtml;\n",
              "          element.appendChild(docLink);\n",
              "        }\n",
              "      </script>\n",
              "    </div>\n",
              "  </div>\n",
              "  "
            ]
          },
          "metadata": {},
          "execution_count": 7
        }
      ]
    },
    {
      "cell_type": "code",
      "source": [
        "X_train.values"
      ],
      "metadata": {
        "colab": {
          "base_uri": "https://localhost:8080/"
        },
        "id": "u_XLLVuqKKkX",
        "outputId": "a5b3d02e-93c7-4e17-fc33-c0e5c61ce89d"
      },
      "id": "u_XLLVuqKKkX",
      "execution_count": 8,
      "outputs": [
        {
          "output_type": "execute_result",
          "data": {
            "text/plain": [
              "array([[ 3.    ,  0.    , 22.    , ...,  0.    ,  7.25  ,  1.    ],\n",
              "       [ 1.    ,  1.    , 38.    , ...,  0.    , 71.2833,  0.    ],\n",
              "       [ 3.    ,  1.    , 26.    , ...,  0.    ,  7.925 ,  1.    ],\n",
              "       ...,\n",
              "       [ 3.    ,  1.    , 20.    , ...,  2.    , 23.45  ,  1.    ],\n",
              "       [ 1.    ,  0.    , 26.    , ...,  0.    , 30.    ,  0.    ],\n",
              "       [ 3.    ,  0.    , 32.    , ...,  0.    ,  7.75  ,  2.    ]])"
            ]
          },
          "metadata": {},
          "execution_count": 8
        }
      ]
    },
    {
      "cell_type": "code",
      "source": [
        "X_train = X_train.values\n",
        "Y_train = Y_train.values\n",
        "X_test = X_test.values\n",
        "Y_test = Y_test.values"
      ],
      "metadata": {
        "id": "V_O7le3zJuvd"
      },
      "id": "V_O7le3zJuvd",
      "execution_count": 9,
      "outputs": []
    },
    {
      "cell_type": "code",
      "source": [
        "X_train = X_train.T\n",
        "Y_train = Y_train.reshape(1, X_train.shape[1])\n",
        "\n",
        "X_test = X_test.T\n",
        "Y_test = Y_test.reshape(1, X_test.shape[1])"
      ],
      "metadata": {
        "id": "K7HQcWMWJpPc"
      },
      "id": "K7HQcWMWJpPc",
      "execution_count": 10,
      "outputs": []
    },
    {
      "cell_type": "code",
      "execution_count": 11,
      "id": "accessible-force",
      "metadata": {
        "colab": {
          "base_uri": "https://localhost:8080/"
        },
        "id": "accessible-force",
        "outputId": "200fbbff-ab2d-4dcd-c173-1a5bbcec58b1"
      },
      "outputs": [
        {
          "output_type": "stream",
          "name": "stdout",
          "text": [
            "Shape of X_train :  (7, 891)\n",
            "Shape of Y_train :  (1, 891)\n",
            "Shape of X_test :  (7, 418)\n",
            "Shape of Y_test :  (1, 418)\n"
          ]
        }
      ],
      "source": [
        "print(\"Shape of X_train : \", X_train.shape)\n",
        "print(\"Shape of Y_train : \", Y_train.shape)\n",
        "print(\"Shape of X_test : \", X_test.shape)\n",
        "print(\"Shape of Y_test : \", Y_test.shape)"
      ]
    },
    {
      "cell_type": "markdown",
      "source": [
        "# Logistic Regression Overview :\n",
        "## Probablistic Predictions of Shape (1 x m)\n",
        "$Z = W^T*X + b $\n",
        "\n",
        "Predicted y (ranges from 0 to 1 due to sigmoid func):\n",
        "\n",
        "$ A = ŷ = h_Θ(x) = \\sigma ( Z ) = \\sigma ( W^T*X + b ) $    \n",
        "\n",
        "where:\n",
        "\n",
        "$ W = \\begin{bmatrix}w_1 \\\\ w_2 \\\\ . \\\\ . \\\\ w_n \\end{bmatrix}_{ n x 1}$ ......... initialize with zeros\n",
        "\n",
        "$ B = $ single $ weight/parameter $\n",
        "\n",
        "$ X = \\begin{bmatrix}. & . & .  \\\\ .  & . & .  \\\\ . & . & .  \\\\ . & . & .  \\\\ \\end{bmatrix}_{n x m}$\n",
        "\n",
        "$ Y = \\begin{bmatrix}. & . & . & . & . \\end{bmatrix}_{1 x m}$"
      ],
      "metadata": {
        "id": "FE-fYZ5nDZXL"
      },
      "id": "FE-fYZ5nDZXL"
    },
    {
      "cell_type": "markdown",
      "source": [
        "## Sigmoid Function:\n",
        "\n",
        "$\\sigma = \\frac{1}{(1 + e^{-x})}  $   "
      ],
      "metadata": {
        "id": "udw97YH1A9vb"
      },
      "id": "udw97YH1A9vb"
    },
    {
      "cell_type": "code",
      "source": [
        "def sigmoid(x):    \n",
        "    output = 1 / (1 + np.exp(-x))\n",
        "    return output"
      ],
      "metadata": {
        "id": "XiBYCpGIA3s2"
      },
      "id": "XiBYCpGIA3s2",
      "execution_count": 12,
      "outputs": []
    },
    {
      "cell_type": "markdown",
      "source": [
        "## Cost Function\n",
        "*The more accurate predicted result means a lower cost function, that is the global minimum*\n",
        "\n",
        "**Cost function** for a binary classifcation logistic regression is given by:\n",
        "\n",
        "$ J(Θ) = - \\frac{1}{m} \\sum_{i=1}^m [ y*log(ŷ) + (1 - y)*log(1 - ŷ) ] $ , where ŷ = $ h_Θ(x) $ is the predicted y\n",
        "\n",
        "For 1 observation (*out of m observations*),\n",
        "*   When `y=0`, substituting:\n",
        "\n",
        "  $ J(Θ) = - [ y*log(ŷ) + (1 - y)*log(1 - ŷ) ] = - log(1 - ŷ)$\n",
        "  \n",
        "  therefore looking at a `-log(1-ŷ) graph`, when ŷ=0, 1-ŷ=1, prediction is correct, cost is therefore low, while if ŷ=1, cost is high\n",
        "*   When `y=1`, substituting:\n",
        "\n",
        "  $ J(Θ) = - [ log(ŷ) + (0)*log(1 - ŷ) ] = -log(ŷ)$\n",
        "  therefore looking at a `-log(ŷ) graph`, when ŷ=1, prediction is correct, cost is therefore low, while if ŷ=0, cost is high\n",
        "\n",
        "$\\frac{1}{m}$ therefore then calculates the average"
      ],
      "metadata": {
        "id": "xrXDLeVMFdOo"
      },
      "id": "xrXDLeVMFdOo"
    },
    {
      "cell_type": "markdown",
      "source": [
        "![image.png](data:image/png;base64,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)"
      ],
      "metadata": {
        "id": "croodkNXKzW-"
      },
      "id": "croodkNXKzW-"
    },
    {
      "cell_type": "markdown",
      "source": [
        "## Gradient Descent \n",
        "algo to minimise the cost function \n",
        "\n",
        "`defining terms`\n",
        "\n",
        "$ W = \\begin{bmatrix}w_1 \\\\ w_2 \\\\ . \\\\ . \\\\ w_n \\end{bmatrix}_{ n x 1}$ ......... initialize with zeros\n",
        "\n",
        "### $ŷ = A $\n",
        "\n",
        "`cost function`\n",
        "\n",
        "$ cost =  L = - [ y*log(ŷ) + (1 - y)*log(1 - ŷ) ] $, *J(Θ) for 1 observation out of m*\n",
        "\n",
        "`we differentiate cost against weight for each observation, that is varying the denominator dCost/dW1, dCost/dW2 ...`\n",
        "\n",
        "$dW = \\frac{\\partial COST }{\\partial W} = ( ŷ - y )*X^T $ ...... shape (1 x n) \n",
        "\n",
        "`we differentiate cost against bias for each observation, that is varying the denominator dCost/dB1, dCost/dB2 ...`\n",
        "\n",
        "$dB = \\frac{\\partial COST }{\\partial B} = ( ŷ - y ) $\n",
        "\n",
        "`deduct a small value to constantly update cost till we find the optimal W, where cost is at the global minimum`\n",
        "\n",
        "$W = W - \\alpha * dW^T $\n",
        "\n",
        "$B = B - \\alpha * dB $"
      ],
      "metadata": {
        "id": "3LZkZrbJLYkH"
      },
      "id": "3LZkZrbJLYkH"
    },
    {
      "cell_type": "markdown",
      "source": [
        "![image.png](data:image/png;base64,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)"
      ],
      "metadata": {
        "id": "zbakbwR90xyV"
      },
      "id": "zbakbwR90xyV"
    },
    {
      "cell_type": "code",
      "execution_count": 19,
      "id": "aquatic-berry",
      "metadata": {
        "id": "aquatic-berry"
      },
      "outputs": [],
      "source": [
        "def model(X, Y, learning_rate, iterations):\n",
        "    \n",
        "    m = X_train.shape[1] #no of samples/rows\n",
        "    n = X_train.shape[0] #no of features\n",
        "    \n",
        "    W = np.zeros((n,1))\n",
        "    B = 0\n",
        "    \n",
        "    cost_list = []\n",
        "    \n",
        "    #keep updating W and B so that we have a hypothesis where cost is minimised\n",
        "    for i in range(iterations):\n",
        "        \n",
        "        Z = np.dot(W.T, X) + B \n",
        "        A = sigmoid(Z) # A = ŷ = h_Θ(x) = \\sigma ( W^T*X + b ) \n",
        "        \n",
        "        # cost function\n",
        "        cost = -(1/m)*np.sum( Y*np.log(A) + (1-Y)*np.log(1-A))\n",
        "        \n",
        "        # Gradient Descent\n",
        "        dW = (1/m)*np.dot(A-Y, X.T)\n",
        "        dB = (1/m)*np.sum(A - Y)\n",
        "        \n",
        "        W = W - learning_rate*dW.T #transpose to get it to n*1\n",
        "        B = B - learning_rate*dB\n",
        "        \n",
        "        # Keeping track of our cost function value\n",
        "        cost_list.append(cost)\n",
        "        \n",
        "        if(i%(iterations/10) == 0):\n",
        "            print(\"cost after \", i, \"iteration is : \", cost)\n",
        "        \n",
        "    return W, B, cost_list\n",
        "        "
      ]
    },
    {
      "cell_type": "code",
      "execution_count": 14,
      "id": "detailed-alert",
      "metadata": {
        "colab": {
          "base_uri": "https://localhost:8080/"
        },
        "id": "detailed-alert",
        "outputId": "142be2f6-1cb6-458e-a53c-1c2209e14a23"
      },
      "outputs": [
        {
          "output_type": "stream",
          "name": "stdout",
          "text": [
            "cost after  0 iteration is :  0.6931471805599454\n",
            "cost after  10000 iteration is :  0.49652777693895306\n",
            "cost after  20000 iteration is :  0.46674868550666\n",
            "cost after  30000 iteration is :  0.45687787762434423\n",
            "cost after  40000 iteration is :  0.45288994293089646\n",
            "cost after  50000 iteration is :  0.4509326025222643\n",
            "cost after  60000 iteration is :  0.4497708749009468\n",
            "cost after  70000 iteration is :  0.4489640829216279\n",
            "cost after  80000 iteration is :  0.44834126966124827\n",
            "cost after  90000 iteration is :  0.44783045246935776\n"
          ]
        }
      ],
      "source": [
        "iterations = 100000\n",
        "learning_rate = 0.0015\n",
        "W, B, cost_list = model(X_train, Y_train, learning_rate = learning_rate, iterations = iterations)"
      ]
    },
    {
      "cell_type": "markdown",
      "id": "chemical-broadcast",
      "metadata": {
        "id": "chemical-broadcast"
      },
      "source": [
        "### Cost vs Iteration\n",
        "Plotting graph to see if Cost Function is decreasing or not"
      ]
    },
    {
      "cell_type": "code",
      "execution_count": 15,
      "id": "outstanding-species",
      "metadata": {
        "colab": {
          "base_uri": "https://localhost:8080/",
          "height": 265
        },
        "id": "outstanding-species",
        "outputId": "43f4feab-3f7d-4ad2-d6d9-22200dc40048"
      },
      "outputs": [
        {
          "output_type": "display_data",
          "data": {
            "text/plain": [
              "<Figure size 432x288 with 1 Axes>"
            ],
            "image/png": "[encoded data removed]"
          },
          "metadata": {
            "needs_background": "light"
          }
        }
      ],
      "source": [
        "plt.plot(np.arange(iterations), cost_list)\n",
        "plt.show()"
      ]
    },
    {
      "cell_type": "markdown",
      "id": "medieval-aircraft",
      "metadata": {
        "id": "medieval-aircraft"
      },
      "source": [
        "# Testing Model Accuracy"
      ]
    },
    {
      "cell_type": "code",
      "execution_count": 16,
      "id": "continental-realtor",
      "metadata": {
        "id": "continental-realtor"
      },
      "outputs": [],
      "source": [
        "def accuracy(X, Y, W, B):\n",
        "    \n",
        "    Z = np.dot(W.T, X) + B\n",
        "    A = sigmoid(Z)\n",
        "    \n",
        "    A = A > 0.5\n",
        "    \n",
        "    A = np.array(A, dtype = 'int64')\n",
        "    \n",
        "    acc = (1 - np.sum(np.absolute(A - Y))/Y.shape[1])*100\n",
        "    \n",
        "    print(\"Accuracy of the model is : \", round(acc, 2), \"%\")"
      ]
    },
    {
      "cell_type": "code",
      "execution_count": 17,
      "id": "hungry-deviation",
      "metadata": {
        "colab": {
          "base_uri": "https://localhost:8080/"
        },
        "id": "hungry-deviation",
        "outputId": "8b7414d4-faaa-4b29-b6a5-9028d10c7ef8"
      },
      "outputs": [
        {
          "output_type": "stream",
          "name": "stdout",
          "text": [
            "Accuracy of the model is :  91.39 %\n"
          ]
        }
      ],
      "source": [
        "accuracy(X_test, Y_test, W, B)"
      ]
    },
    {
      "cell_type": "code",
      "execution_count": null,
      "id": "promotional-greene",
      "metadata": {
        "id": "promotional-greene"
      },
      "outputs": [],
      "source": [
        ""
      ]
    }
  ],
  "metadata": {
    "kernelspec": {
      "display_name": "Python 3",
      "language": "python",
      "name": "python3"
    },
    "language_info": {
      "codemirror_mode": {
        "name": "ipython",
        "version": 3
      },
      "file_extension": ".py",
      "mimetype": "text/x-python",
      "name": "python",
      "nbconvert_exporter": "python",
      "pygments_lexer": "ipython3",
      "version": "3.7.8"
    },
    "colab": {
      "name": "Logistic Regression - Titanic.ipynb",
      "provenance": [],
      "collapsed_sections": []
    }
  },
  "nbformat": 4,
  "nbformat_minor": 5
}